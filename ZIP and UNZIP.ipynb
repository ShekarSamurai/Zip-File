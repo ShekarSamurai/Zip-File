{
 "cells": [
  {
   "cell_type": "code",
   "execution_count": 4,
   "id": "40223737",
   "metadata": {},
   "outputs": [],
   "source": [
    "import zipfile as z"
   ]
  },
  {
   "cell_type": "code",
   "execution_count": 1,
   "id": "63bbe5fc",
   "metadata": {},
   "outputs": [],
   "source": [
    "target= \"archive.zip\"     #File location and file name"
   ]
  },
  {
   "cell_type": "code",
   "execution_count": 2,
   "id": "1a21eaa2",
   "metadata": {},
   "outputs": [
    {
     "name": "stdout",
     "output_type": "stream",
     "text": [
      "Starting Unzipping\n"
     ]
    }
   ],
   "source": [
    "print(\"Starting Unzipping\")"
   ]
  },
  {
   "cell_type": "code",
   "execution_count": 5,
   "id": "cf5419af",
   "metadata": {},
   "outputs": [],
   "source": [
    "root=z.ZipFile(target)"
   ]
  },
  {
   "cell_type": "code",
   "execution_count": 7,
   "id": "8110a87d",
   "metadata": {},
   "outputs": [],
   "source": [
    "root.extractall(\"new\") #Target Location and fie name or want to create new tank mention \"new\""
   ]
  },
  {
   "cell_type": "code",
   "execution_count": 8,
   "id": "780f65c4",
   "metadata": {},
   "outputs": [
    {
     "data": {
      "text/plain": [
       "<bound method ZipFile.close of <zipfile.ZipFile filename='archive.zip' mode='r'>>"
      ]
     },
     "execution_count": 8,
     "metadata": {},
     "output_type": "execute_result"
    }
   ],
   "source": [
    "root.close"
   ]
  },
  {
   "cell_type": "code",
   "execution_count": null,
   "id": "f5a697af",
   "metadata": {},
   "outputs": [],
   "source": [
    "#### File Unzipped successfully"
   ]
  }
 ],
 "metadata": {
  "kernelspec": {
   "display_name": "Python 3 (ipykernel)",
   "language": "python",
   "name": "python3"
  },
  "language_info": {
   "codemirror_mode": {
    "name": "ipython",
    "version": 3
   },
   "file_extension": ".py",
   "mimetype": "text/x-python",
   "name": "python",
   "nbconvert_exporter": "python",
   "pygments_lexer": "ipython3",
   "version": "3.9.12"
  }
 },
 "nbformat": 4,
 "nbformat_minor": 5
}
